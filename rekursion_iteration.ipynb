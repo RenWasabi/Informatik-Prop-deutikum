{
 "cells": [
  {
   "cell_type": "markdown",
   "id": "inappropriate-louisiana",
   "metadata": {},
   "source": [
    "### Vergleich der Implementierung: iterativ vs. rekursiv"
   ]
  },
  {
   "cell_type": "markdown",
   "id": "velvet-holiday",
   "metadata": {},
   "source": [
    "### Beispiel 1: \n",
    "größter gemeinsamer Teiler"
   ]
  },
  {
   "cell_type": "code",
   "execution_count": 1,
   "id": "descending-medicaid",
   "metadata": {},
   "outputs": [],
   "source": [
    "def ggt_mod(a,b):\n",
    "    while a % b != 0:\n",
    "        if b > a: \n",
    "            a,b = b,a\n",
    "        a = a % b \n",
    "    return b"
   ]
  },
  {
   "cell_type": "code",
   "execution_count": 129,
   "id": "hungarian-wright",
   "metadata": {},
   "outputs": [],
   "source": []
  },
  {
   "cell_type": "code",
   "execution_count": 2,
   "id": "unusual-norfolk",
   "metadata": {},
   "outputs": [],
   "source": [
    "def ggt_rek(a,b):\n",
    "    if b == 0:\n",
    "        return a\n",
    "    else:\n",
    "        return ggt_rek(b, a%b)"
   ]
  },
  {
   "cell_type": "code",
   "execution_count": 3,
   "id": "retained-comparison",
   "metadata": {},
   "outputs": [
    {
     "data": {
      "text/plain": [
       "3"
      ]
     },
     "execution_count": 3,
     "metadata": {},
     "output_type": "execute_result"
    }
   ],
   "source": [
    "ggt_rek(27,75)"
   ]
  },
  {
   "cell_type": "code",
   "execution_count": 4,
   "id": "viral-michael",
   "metadata": {},
   "outputs": [],
   "source": [
    "def ggt_rek(a,b):\n",
    "    print(\"Aufruf mit a:%d und b:%d\" %(a,b))\n",
    "    if b == 0:\n",
    "        return a\n",
    "    else:\n",
    "        print(\"Selbstaufruf mit b: %d a: %d\" %(b,a%b))\n",
    "        return ggt_rek(b, a%b)"
   ]
  },
  {
   "cell_type": "code",
   "execution_count": 6,
   "id": "liquid-crazy",
   "metadata": {},
   "outputs": [
    {
     "name": "stdout",
     "output_type": "stream",
     "text": [
      "Aufruf mit a:27 und b:75\n",
      "Selbstaufruf mit b: 75 a: 27\n",
      "Aufruf mit a:75 und b:27\n",
      "Selbstaufruf mit b: 27 a: 21\n",
      "Aufruf mit a:27 und b:21\n",
      "Selbstaufruf mit b: 21 a: 6\n",
      "Aufruf mit a:21 und b:6\n",
      "Selbstaufruf mit b: 6 a: 3\n",
      "Aufruf mit a:6 und b:3\n",
      "Selbstaufruf mit b: 3 a: 0\n",
      "Aufruf mit a:3 und b:0\n"
     ]
    },
    {
     "data": {
      "text/plain": [
       "3"
      ]
     },
     "execution_count": 6,
     "metadata": {},
     "output_type": "execute_result"
    }
   ],
   "source": [
    "ggt_rek(27,75)"
   ]
  },
  {
   "cell_type": "markdown",
   "id": "closing-browser",
   "metadata": {},
   "source": [
    "### Beispiel 2: \n",
    "Fakultät $n! = \\prod_{i=1}^n i = 1 * 2 * 3 * ... * n$"
   ]
  },
  {
   "cell_type": "code",
   "execution_count": 7,
   "id": "bound-original",
   "metadata": {},
   "outputs": [],
   "source": [
    "def fact_iterativ(n):\n",
    "    f = 1\n",
    "    while n > 0: # n = 1, f = 1\n",
    "        f = f * n\n",
    "        n = n - 1\n",
    "    return f"
   ]
  },
  {
   "cell_type": "code",
   "execution_count": 8,
   "id": "genuine-collapse",
   "metadata": {},
   "outputs": [
    {
     "data": {
      "text/plain": [
       "120"
      ]
     },
     "execution_count": 8,
     "metadata": {},
     "output_type": "execute_result"
    }
   ],
   "source": [
    "fact_iterativ(5)"
   ]
  },
  {
   "cell_type": "code",
   "execution_count": 9,
   "id": "scenic-spain",
   "metadata": {},
   "outputs": [],
   "source": [
    "def fact_rek(n):\n",
    "    if n <= 1:\n",
    "        return 1\n",
    "    else:\n",
    "        return n * fact_rek(n-1)"
   ]
  },
  {
   "cell_type": "code",
   "execution_count": 20,
   "id": "sorted-trout",
   "metadata": {},
   "outputs": [
    {
     "data": {
      "text/plain": [
       "1"
      ]
     },
     "execution_count": 20,
     "metadata": {},
     "output_type": "execute_result"
    }
   ],
   "source": [
    "fact_rek(0)"
   ]
  },
  {
   "cell_type": "code",
   "execution_count": 10,
   "id": "figured-hundred",
   "metadata": {},
   "outputs": [],
   "source": [
    "def fact_rek_v(n):\n",
    "    print('aufgerufen mit %d' %n)\n",
    "    if n <= 1:\n",
    "        print ('gebe Startwert 1 zurück')\n",
    "        return 1\n",
    "    else:\n",
    "        print ('ich rufe mich selbst auf mit %d' %(n-1))\n",
    "        temp = n * fact_rek_v(n-1)\n",
    "        print ('gebe zurück %d' %temp)\n",
    "        return temp"
   ]
  },
  {
   "cell_type": "code",
   "execution_count": 13,
   "id": "narrative-modern",
   "metadata": {},
   "outputs": [
    {
     "name": "stdout",
     "output_type": "stream",
     "text": [
      "aufgerufen mit 4\n",
      "ich rufe mich selbst auf mit 3\n",
      "aufgerufen mit 3\n",
      "ich rufe mich selbst auf mit 2\n",
      "aufgerufen mit 2\n",
      "ich rufe mich selbst auf mit 1\n",
      "aufgerufen mit 1\n",
      "gebe Startwert 1 zurück\n",
      "gebe zurück 2\n",
      "gebe zurück 6\n",
      "gebe zurück 24\n"
     ]
    },
    {
     "data": {
      "text/plain": [
       "24"
      ]
     },
     "execution_count": 13,
     "metadata": {},
     "output_type": "execute_result"
    }
   ],
   "source": [
    "fact_rek_v(4)"
   ]
  },
  {
   "cell_type": "code",
   "execution_count": null,
   "id": "linear-leone",
   "metadata": {},
   "outputs": [],
   "source": []
  },
  {
   "cell_type": "markdown",
   "id": "advance-boxing",
   "metadata": {},
   "source": [
    "### Motivation Asymptotische Notation:\n",
    "all one polynomial $\\sum_{k=0}^n x^k = 1 + x + x^2 + x^3 + ... + x^n$"
   ]
  },
  {
   "cell_type": "code",
   "execution_count": 26,
   "id": "supposed-yukon",
   "metadata": {},
   "outputs": [],
   "source": [
    "def aop1(x,n):\n",
    "    \"\"\"\n",
    "    berechnet 'all one polynomial' n-ten Grades \n",
    "    \"\"\"\n",
    "    s = 0                  # 1 ZE\n",
    "    for k in range(n+1):   # n+1: 2 ZE\n",
    "        p = 1              #      1 ZE   \n",
    "        for i in range(k): #      k: 2 ZE \n",
    "            p *= x         #         2 ZE\n",
    "        s += p             #      2 ZE \n",
    "    return s               # 1 ZE"
   ]
  },
  {
   "cell_type": "code",
   "execution_count": null,
   "id": "sonic-steel",
   "metadata": {},
   "outputs": [],
   "source": [
    "def aop2(x,n):\n",
    "    \"\"\"\n",
    "    berechnet 'all one polynomial' n-ten Grades \n",
    "    umgeformt nach Horner Schema\n",
    "    \"\"\"\n",
    "    s = 1                  # 1 ZE\n",
    "    for i in range(n):     # n: 2 ZE\n",
    "        s *= x             #    2 ZE\n",
    "        s += 1             #    2 ZE\n",
    "    return s               # 1 ZE"
   ]
  }
 ],
 "metadata": {
  "kernelspec": {
   "display_name": "Python 3",
   "language": "python",
   "name": "python3"
  },
  "language_info": {
   "codemirror_mode": {
    "name": "ipython",
    "version": 3
   },
   "file_extension": ".py",
   "mimetype": "text/x-python",
   "name": "python",
   "nbconvert_exporter": "python",
   "pygments_lexer": "ipython3",
   "version": "3.9.2"
  }
 },
 "nbformat": 4,
 "nbformat_minor": 5
}
