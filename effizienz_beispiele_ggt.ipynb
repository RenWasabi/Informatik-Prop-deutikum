{
 "cells": [
  {
   "cell_type": "markdown",
   "id": "vietnamese-missile",
   "metadata": {},
   "source": [
    "### Effizienzbetrachtungen für 3 Algorithmen zum Finden des ggT"
   ]
  },
  {
   "cell_type": "code",
   "execution_count": 1,
   "id": "understanding-mechanism",
   "metadata": {},
   "outputs": [],
   "source": [
    "def ggt_naiv(a,b):\n",
    "    d = a # wenn a die kleinere Zahl\n",
    "    if (d > b):\n",
    "        d = b # wenn b die kleinere Zahl\n",
    "    while a % d != 0 or b % d != 0: # Abbruchbedingung\n",
    "        d = d - 1\n",
    "    return d"
   ]
  },
  {
   "cell_type": "code",
   "execution_count": 2,
   "id": "military-superior",
   "metadata": {},
   "outputs": [],
   "source": [
    "def ggt_sub(a,b):\n",
    "    while a != b: # Abbruchbedingung Differenz == 0\n",
    "        if b > a:\n",
    "            a,b = b,a # a soll der grössere sein\n",
    "        a = a - b\n",
    "    return b   "
   ]
  },
  {
   "cell_type": "code",
   "execution_count": 3,
   "id": "international-satin",
   "metadata": {},
   "outputs": [],
   "source": [
    "def ggt_mod(a,b):\n",
    "    while a % b != 0: # Abbruchbedingung Rest == 0\n",
    "        if b > a: \n",
    "            a,b = b,a\n",
    "        a = a % b \n",
    "    return b"
   ]
  },
  {
   "cell_type": "code",
   "execution_count": 4,
   "id": "embedded-summer",
   "metadata": {},
   "outputs": [
    {
     "name": "stdout",
     "output_type": "stream",
     "text": [
      "513 ns ± 2.51 ns per loop (mean ± std. dev. of 7 runs, 1000000 loops each)\n"
     ]
    }
   ],
   "source": [
    "%timeit  ggt_mod(75,27)"
   ]
  },
  {
   "cell_type": "code",
   "execution_count": 5,
   "id": "bored-daisy",
   "metadata": {},
   "outputs": [
    {
     "name": "stdout",
     "output_type": "stream",
     "text": [
      "581 ns ± 8.48 ns per loop (mean ± std. dev. of 7 runs, 1000000 loops each)\n"
     ]
    }
   ],
   "source": [
    "%timeit ggt_sub(75,27)"
   ]
  },
  {
   "cell_type": "code",
   "execution_count": 6,
   "id": "fresh-redhead",
   "metadata": {},
   "outputs": [
    {
     "name": "stdout",
     "output_type": "stream",
     "text": [
      "1.46 µs ± 307 ns per loop (mean ± std. dev. of 7 runs, 1000000 loops each)\n"
     ]
    }
   ],
   "source": [
    "%timeit ggt_naiv(75,27)"
   ]
  },
  {
   "cell_type": "markdown",
   "id": "fewer-expansion",
   "metadata": {},
   "source": [
    "Funktion, die uns die Funktionen für verschiedene Eingaben aufruft"
   ]
  },
  {
   "cell_type": "code",
   "execution_count": 7,
   "id": "featured-philadelphia",
   "metadata": {},
   "outputs": [],
   "source": [
    "def test_ggt(f,a):\n",
    "    \"\"\"\n",
    "    berechnet den ggT von a und allen Zahlen b = 1, ..., a mit der Funktion f\n",
    "    \"\"\"\n",
    "    for k in range(1,a):\n",
    "        f(a,k)"
   ]
  },
  {
   "cell_type": "code",
   "execution_count": 8,
   "id": "undefined-natural",
   "metadata": {},
   "outputs": [
    {
     "name": "stdout",
     "output_type": "stream",
     "text": [
      "318 µs ± 33.1 µs per loop (mean ± std. dev. of 3 runs, 500 loops each)\n"
     ]
    }
   ],
   "source": [
    "%timeit -n 500 -r 3 test_ggt(ggt_naiv, 100)"
   ]
  },
  {
   "cell_type": "code",
   "execution_count": 9,
   "id": "cooked-uncertainty",
   "metadata": {},
   "outputs": [
    {
     "name": "stdout",
     "output_type": "stream",
     "text": [
      "125 µs ± 35.6 µs per loop (mean ± std. dev. of 3 runs, 500 loops each)\n"
     ]
    }
   ],
   "source": [
    "%timeit -n 500 -r 3 test_ggt(ggt_sub, 100)"
   ]
  },
  {
   "cell_type": "code",
   "execution_count": 10,
   "id": "great-telling",
   "metadata": {},
   "outputs": [
    {
     "name": "stdout",
     "output_type": "stream",
     "text": [
      "67.6 µs ± 16.4 µs per loop (mean ± std. dev. of 3 runs, 500 loops each)\n"
     ]
    }
   ],
   "source": [
    "%timeit -n 500 -r 3 test_ggt(ggt_mod, 100)"
   ]
  },
  {
   "cell_type": "code",
   "execution_count": 11,
   "id": "numerous-reduction",
   "metadata": {},
   "outputs": [
    {
     "data": {
      "text/plain": [
       "0.39308176100628933"
      ]
     },
     "execution_count": 11,
     "metadata": {},
     "output_type": "execute_result"
    }
   ],
   "source": [
    "125/318"
   ]
  },
  {
   "cell_type": "code",
   "execution_count": 12,
   "id": "internal-stations",
   "metadata": {},
   "outputs": [
    {
     "data": {
      "text/plain": [
       "0.544"
      ]
     },
     "execution_count": 12,
     "metadata": {},
     "output_type": "execute_result"
    }
   ],
   "source": [
    "68/125"
   ]
  },
  {
   "cell_type": "code",
   "execution_count": 20,
   "id": "expanded-pioneer",
   "metadata": {},
   "outputs": [
    {
     "data": {
      "text/plain": [
       "0.14325842696629212"
      ]
     },
     "execution_count": 20,
     "metadata": {},
     "output_type": "execute_result"
    }
   ],
   "source": [
    "25.5/178"
   ]
  },
  {
   "cell_type": "code",
   "execution_count": null,
   "id": "automated-projection",
   "metadata": {},
   "outputs": [],
   "source": []
  },
  {
   "cell_type": "markdown",
   "id": "honest-treaty",
   "metadata": {},
   "source": [
    "### Noch ein Beispiel: Summe berechnen \n",
    "### $\\sum_{k=1}^n k$"
   ]
  },
  {
   "cell_type": "code",
   "execution_count": 13,
   "id": "otherwise-yeast",
   "metadata": {},
   "outputs": [],
   "source": [
    "def sum1(n):\n",
    "    \"\"\"\n",
    "    Summe iterativ\n",
    "    \"\"\"\n",
    "    s = 0 \n",
    "    for i in range(1, n + 1):\n",
    "        s += i\n",
    "    return s"
   ]
  },
  {
   "cell_type": "code",
   "execution_count": 14,
   "id": "prime-concord",
   "metadata": {},
   "outputs": [
    {
     "data": {
      "text/plain": [
       "15"
      ]
     },
     "execution_count": 14,
     "metadata": {},
     "output_type": "execute_result"
    }
   ],
   "source": [
    "sum1(5)"
   ]
  },
  {
   "cell_type": "code",
   "execution_count": 15,
   "id": "opposed-rendering",
   "metadata": {},
   "outputs": [
    {
     "name": "stdout",
     "output_type": "stream",
     "text": [
      "4.05 µs ± 43.3 ns per loop (mean ± std. dev. of 7 runs, 100000 loops each)\n"
     ]
    }
   ],
   "source": [
    "%timeit sum1(100)"
   ]
  },
  {
   "cell_type": "code",
   "execution_count": 16,
   "id": "floating-replacement",
   "metadata": {},
   "outputs": [
    {
     "name": "stdout",
     "output_type": "stream",
     "text": [
      "45.6 µs ± 3 µs per loop (mean ± std. dev. of 7 runs, 10000 loops each)\n"
     ]
    }
   ],
   "source": [
    "%timeit sum1(1000)"
   ]
  },
  {
   "cell_type": "code",
   "execution_count": 17,
   "id": "closed-cornell",
   "metadata": {},
   "outputs": [],
   "source": [
    "def sum2(n):\n",
    "    \"\"\"\n",
    "    Gaußsche Summenformel\n",
    "    \"\"\"\n",
    "    return n * (n+1) // 2"
   ]
  },
  {
   "cell_type": "code",
   "execution_count": 18,
   "id": "nutritional-lexington",
   "metadata": {},
   "outputs": [
    {
     "name": "stdout",
     "output_type": "stream",
     "text": [
      "124 ns ± 8.06 ns per loop (mean ± std. dev. of 7 runs, 10000000 loops each)\n"
     ]
    }
   ],
   "source": [
    "%timeit sum2(100)"
   ]
  },
  {
   "cell_type": "code",
   "execution_count": 19,
   "id": "silent-poster",
   "metadata": {},
   "outputs": [
    {
     "name": "stdout",
     "output_type": "stream",
     "text": [
      "126 ns ± 15.3 ns per loop (mean ± std. dev. of 7 runs, 10000000 loops each)\n"
     ]
    }
   ],
   "source": [
    "%timeit sum2(1000)"
   ]
  },
  {
   "cell_type": "code",
   "execution_count": null,
   "id": "quality-values",
   "metadata": {},
   "outputs": [],
   "source": []
  },
  {
   "cell_type": "code",
   "execution_count": null,
   "id": "patent-match",
   "metadata": {},
   "outputs": [],
   "source": []
  },
  {
   "cell_type": "markdown",
   "id": "coated-vertical",
   "metadata": {},
   "source": [
    "### Vergleich while und for loop"
   ]
  },
  {
   "cell_type": "code",
   "execution_count": 1,
   "id": "educational-deviation",
   "metadata": {},
   "outputs": [],
   "source": [
    "def test_while(n):\n",
    "    i = 0\n",
    "    while i < n:\n",
    "        i+=1\n",
    "    return i"
   ]
  },
  {
   "cell_type": "code",
   "execution_count": 2,
   "id": "consolidated-affair",
   "metadata": {},
   "outputs": [],
   "source": [
    "def test_for(n):\n",
    "    i = 0\n",
    "    for k in range(n):\n",
    "        i+=1\n",
    "    return i"
   ]
  },
  {
   "cell_type": "code",
   "execution_count": 3,
   "id": "adopted-sellers",
   "metadata": {},
   "outputs": [
    {
     "name": "stdout",
     "output_type": "stream",
     "text": [
      "2.61 ms ± 63.3 µs per loop (mean ± std. dev. of 7 runs, 100 loops each)\n"
     ]
    }
   ],
   "source": [
    "%timeit -n 1000 -r 5 test_for(100)"
   ]
  },
  {
   "cell_type": "code",
   "execution_count": 9,
   "id": "allied-wichita",
   "metadata": {},
   "outputs": [
    {
     "name": "stdout",
     "output_type": "stream",
     "text": [
      "44.4 ms ± 544 µs per loop (mean ± std. dev. of 7 runs, 10 loops each)\n"
     ]
    }
   ],
   "source": [
    "%timeit -n 1000 -r 5 test_while(100)"
   ]
  },
  {
   "cell_type": "code",
   "execution_count": null,
   "id": "protecting-hollywood",
   "metadata": {},
   "outputs": [],
   "source": []
  },
  {
   "cell_type": "code",
   "execution_count": null,
   "id": "relative-association",
   "metadata": {},
   "outputs": [],
   "source": []
  },
  {
   "cell_type": "code",
   "execution_count": 4,
   "id": "unlimited-tenant",
   "metadata": {},
   "outputs": [],
   "source": [
    "i = 0        # 1ZE\n",
    "while i < n: # n:   1ZE\n",
    "    i += 1   #      2ZE\n",
    "             # 1ZE: letzter Test i==n "
   ]
  }
 ],
 "metadata": {
  "kernelspec": {
   "display_name": "Python 3",
   "language": "python",
   "name": "python3"
  },
  "language_info": {
   "codemirror_mode": {
    "name": "ipython",
    "version": 3
   },
   "file_extension": ".py",
   "mimetype": "text/x-python",
   "name": "python",
   "nbconvert_exporter": "python",
   "pygments_lexer": "ipython3",
   "version": "3.9.2"
  }
 },
 "nbformat": 4,
 "nbformat_minor": 5
}
